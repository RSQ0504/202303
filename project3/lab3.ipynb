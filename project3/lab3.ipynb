{
  "cells": [
    {
      "cell_type": "markdown",
      "metadata": {
        "id": "QHnVupBBn9eR"
      },
      "source": [
        "\n",
        "# Assignment 3\n",
        "\n",
        "This is a template notebook for Assignment 3.\n"
      ]
    },
    {
      "cell_type": "markdown",
      "metadata": {
        "id": "vM54r6jlKTII"
      },
      "source": [
        "## Install dependencies and initialization"
      ]
    },
    {
      "cell_type": "code",
      "execution_count": null,
      "metadata": {
        "id": "9_FzH13EjseR"
      },
      "outputs": [],
      "source": [
        "'''\n",
        "# The next 8 lines added to be compatible with version changes (2022/10/13).\n",
        "# change cuda to 11.1\n",
        "!sudo apt-get update\n",
        "!sudo apt-get install python3.9\n",
        "!sudo apt-get install python3.9-distutils\n",
        "!sudo update-alternatives --install /usr/bin/python3 python3 /usr/bin/python3.9 1\n",
        "!sudo update-alternatives --config python3\n",
        "#!sudo apt-get install pip\n",
        "!sudo apt install python3-pip\n",
        "!python3 --version\n",
        "\n",
        "import os\n",
        "p = os.getenv('PATH')\n",
        "ld = os.getenv('LD_LIBRARY_PATH')\n",
        "os.environ['PATH'] = f\"/usr/local/cuda-11.1/bin:{p}\"\n",
        "os.environ['LD_LIBRARY_PATH'] = f\"/usr/local/cuda-11.1/lib64:{ld}\"\n",
        "# change pytorch to 1.9.0 compiled with cuda 11.1\n",
        "!pip install torch==1.9.0+cu111 torchvision==0.10.0+cu111 -f https://download.pytorch.org/whl/torch_stable.html\n",
        "\n",
        "\n",
        "# install dependencies:\n",
        "!pip install pyyaml==5.1 pycocotools>=2.0.1\n",
        "# !pip install detectron2 -f https://dl.fbaipublicfiles.com/detectron2/wheels/cu101/torch1.6/index.html\n",
        "!pip install detectron2 -f https://dl.fbaipublicfiles.com/detectron2/wheels/cu111/torch1.9/index.html\n",
        "'''\n",
        "!python3 --version\n",
        "!pip install pyyaml\n",
        "import sys, os, distutils.core\n",
        "# Note: This is a faster way to install detectron2 in Colab, but it does not include all functionalities (e.g. compiled operators).\n",
        "# See https://detectron2.readthedocs.io/tutorials/install.html for full installation instructions\n",
        "!git clone 'https://github.com/facebookresearch/detectron2'\n",
        "dist = distutils.core.run_setup(\"./detectron2/setup.py\")\n",
        "!python -m pip install {' '.join([f\"'{x}'\" for x in dist.install_requires])}\n",
        "sys.path.insert(0, os.path.abspath('./detectron2'))\n",
        "print(\"finish\")"
      ]
    },
    {
      "cell_type": "code",
      "execution_count": null,
      "metadata": {
        "id": "dqAUb5Y12qXt"
      },
      "outputs": [],
      "source": [
        "!pwd # shows current directory\n",
        "!ls  # shows all files in this directory\n",
        "!nvidia-smi # shows the specs and the current status of the allocated GPU"
      ]
    },
    {
      "cell_type": "code",
      "execution_count": 11,
      "metadata": {
        "colab": {
          "base_uri": "https://localhost:8080/"
        },
        "id": "b-i4hmGYk1dL",
        "outputId": "0c112840-0284-4499-aba5-ac94edc84a92"
      },
      "outputs": [
        {
          "output_type": "execute_result",
          "data": {
            "text/plain": [
              "<Logger detectron2 (DEBUG)>"
            ]
          },
          "metadata": {},
          "execution_count": 11
        }
      ],
      "source": [
        "# import some common libraries\n",
        "from google.colab.patches import cv2_imshow\n",
        "from sklearn.metrics import jaccard_score\n",
        "from PIL import Image, ImageDraw\n",
        "from tqdm.notebook import tqdm\n",
        "import pandas as pd\n",
        "import numpy as np\n",
        "import datetime\n",
        "import random\n",
        "import json\n",
        "import cv2\n",
        "import csv\n",
        "import os\n",
        "\n",
        "# import some common pytorch utilities\n",
        "from torch.utils.data import Dataset, DataLoader\n",
        "import torchvision.transforms as transforms\n",
        "from torch.autograd import Variable\n",
        "import torch.nn.functional as F\n",
        "import torch.nn as nn\n",
        "import torch\n",
        "\n",
        "# import some common detectron2 utilities\n",
        "import detectron2\n",
        "from detectron2 import model_zoo\n",
        "from detectron2.config import get_cfg\n",
        "from detectron2.structures import BoxMode\n",
        "from detectron2.engine import DefaultTrainer\n",
        "from detectron2.engine import DefaultPredictor\n",
        "from detectron2.utils.logger import setup_logger\n",
        "from detectron2.utils.visualizer import ColorMode\n",
        "from detectron2.utils.visualizer import Visualizer\n",
        "from detectron2.data import build_detection_test_loader\n",
        "from detectron2.data import MetadataCatalog, DatasetCatalog\n",
        "from detectron2.evaluation import COCOEvaluator, inference_on_dataset\n",
        "setup_logger()"
      ]
    },
    {
      "cell_type": "code",
      "execution_count": 12,
      "metadata": {
        "colab": {
          "base_uri": "https://localhost:8080/"
        },
        "id": "tUA_j6AF1L5Y",
        "outputId": "ee825057-c74a-4614-8a43-5e32f61c11cc"
      },
      "outputs": [
        {
          "output_type": "execute_result",
          "data": {
            "text/plain": [
              "True"
            ]
          },
          "metadata": {},
          "execution_count": 12
        }
      ],
      "source": [
        "# Make sure that GPU is available for your notebook.\n",
        "# Otherwise, you need to update the settungs in Runtime -> Change runtime type -> Hardware accelerator\n",
        "torch.cuda.is_available()"
      ]
    },
    {
      "cell_type": "code",
      "execution_count": 13,
      "metadata": {
        "colab": {
          "base_uri": "https://localhost:8080/"
        },
        "id": "ZyAvNCJMmvFF",
        "outputId": "cef71a94-263e-4f3a-d2d8-d67f925843fd"
      },
      "outputs": [
        {
          "output_type": "stream",
          "name": "stdout",
          "text": [
            "Drive already mounted at /content/drive; to attempt to forcibly remount, call drive.mount(\"/content/drive\", force_remount=True).\n"
          ]
        }
      ],
      "source": [
        "# You need to mount your google drive in order to load the data:\n",
        "from google.colab import drive\n",
        "drive.mount('/content/drive')\n",
        "# Put all the corresponding data files in a data folder and put the data folder in a same directory with this notebook.\n",
        "# Also create an output directory for your files such as the trained models and the output images."
      ]
    },
    {
      "cell_type": "code",
      "execution_count": 14,
      "metadata": {
        "id": "A_Di_fgL4HSv"
      },
      "outputs": [],
      "source": [
        "# Define the location of current directory, which should contain data/train, data/test, and data/train.json.\n",
        "# TODO: approx 1 line\n",
        "BASE_DIR = '/content/drive/MyDrive/CMPT_CV_lab3'\n",
        "OUTPUT_DIR = '{}/output'.format(BASE_DIR)\n",
        "os.makedirs(OUTPUT_DIR, exist_ok=True)"
      ]
    },
    {
      "cell_type": "markdown",
      "metadata": {
        "id": "Vk4gID50K03a"
      },
      "source": [
        "## Part 1: Object Detection"
      ]
    },
    {
      "cell_type": "markdown",
      "metadata": {
        "id": "xRV-KFJzlur4"
      },
      "source": [
        "### Data Loader"
      ]
    },
    {
      "cell_type": "code",
      "execution_count": 15,
      "metadata": {
        "id": "dq9GY37ml1kr"
      },
      "outputs": [],
      "source": [
        "'''\n",
        "# This function should return a list of data samples in which each sample is a dictionary.\n",
        "# Make sure to select the correct bbox_mode for the data\n",
        "# For the test data, you only have access to the images, therefore, the annotations should be empty.\n",
        "# Other values could be obtained from the image files.\n",
        "# TODO: approx 35 lines\n",
        "'''\n",
        "import json\n",
        "import os\n",
        "from PIL import Image\n",
        "\n",
        "def image_file_info(path,file_list):\n",
        "  dataset = []\n",
        "  temp = {}\n",
        "  image_index_in_dataset = {}\n",
        "  images = []\n",
        "\n",
        "  for index,filename in enumerate(file_list):\n",
        "      with Image.open(os.path.join(path,filename)) as img:\n",
        "        width, height = img.size\n",
        "      temp = {}\n",
        "      temp[\"file_name\"] = os.path.join(path,filename)\n",
        "      temp[\"image_id\"] = index\n",
        "      temp[\"height\"] = height\n",
        "      temp[\"width\"] = width\n",
        "      temp[\"annotations\"] = []\n",
        "\n",
        "      dataset.append(temp)\n",
        "      images.append(filename)\n",
        "      image_index_in_dataset[filename] = index\n",
        "\n",
        "  return dataset,images,image_index_in_dataset\n",
        "\n",
        "def label_file_info(data,images,image_index_in_dataset,dataset):\n",
        "  for item in data:\n",
        "      if item[\"file_name\"] in images:\n",
        "        index = image_index_in_dataset[item[\"file_name\"]]\n",
        "        info = dataset[index]\n",
        "        temp = {}\n",
        "\n",
        "        info[\"image_id\"] = item[\"image_id\"]\n",
        "        temp[\"bbox\"] = item[\"bbox\"]\n",
        "        temp[\"bbox_mode\"] = 1 # BoxMode.XYXY_ABS = 0 ; BoxMode.XYWH_ABS = 1\n",
        "        temp[\"segmentation\"] = item[\"segmentation\"]\n",
        "        temp[\"category_id\"] = item[\"category_id\"]\n",
        "        info[\"annotations\"].append(temp)\n",
        "        dataset[index] = info\n",
        "  return dataset\n",
        "\n",
        "def get_detection_data(set_name):\n",
        "  data_dirs = '{}/data'.format(BASE_DIR)\n",
        "  dataset = []\n",
        "\n",
        "  label_path = os.path.join(data_dirs,\"train.json\")\n",
        "  test_path = os.path.join(data_dirs,\"test\")\n",
        "  train_path = os.path.join(data_dirs,\"train\")\n",
        "\n",
        "  temp = {}\n",
        "  image_index_in_dataset = {}\n",
        "  images = []\n",
        "  num_val = 8\n",
        "\n",
        "  if set_name == \"train\":\n",
        "    with open(label_path, 'r') as f:\n",
        "          data = json.load(f)\n",
        "    file_list = os.listdir(train_path)[num_val:]\n",
        "    dataset, images, image_index_in_dataset = image_file_info(train_path,file_list)\n",
        "    dataset = label_file_info(data,images,image_index_in_dataset,dataset)\n",
        "\n",
        "  if set_name == \"val\":\n",
        "    with open(label_path, 'r') as f:\n",
        "          data = json.load(f)\n",
        "    file_list = os.listdir(train_path)[:num_val]\n",
        "    dataset, images, image_index_in_dataset = image_file_info(train_path,file_list)\n",
        "    dataset = label_file_info(data,images,image_index_in_dataset,dataset)\n",
        "\n",
        "  if set_name == \"test\":\n",
        "    file_list = os.listdir(test_path)\n",
        "    dataset, _, _ = image_file_info(test_path,file_list)\n",
        "\n",
        "  return dataset\n",
        "\n"
      ]
    },
    {
      "cell_type": "code",
      "execution_count": 16,
      "metadata": {
        "colab": {
          "base_uri": "https://localhost:8080/"
        },
        "id": "xCH-2mWxDVVu",
        "outputId": "6b6345ab-5139-4ee2-bf16-cf50150383a6"
      },
      "outputs": [
        {
          "output_type": "stream",
          "name": "stdout",
          "text": [
            "train: 190\n",
            "test: 72\n",
            "train: 8\n"
          ]
        },
        {
          "output_type": "execute_result",
          "data": {
            "text/plain": [
              "namespace(name='data_detection_val', thing_classes=['', '', '', '', 'plane'])"
            ]
          },
          "metadata": {},
          "execution_count": 16
        }
      ],
      "source": [
        "'''\n",
        "# Remember to add your dataset to DatasetCatalog and MetadataCatalog\n",
        "# Consdier \"data_detection_train\" and \"data_detection_test\" for registration\n",
        "# You can also add an optional \"data_detection_val\" for your validation by spliting the training data\n",
        "# TODO: approx 5 lines\n",
        "'''\n",
        "dataset1 = get_detection_data(\"train\")\n",
        "print(f\"train: {len(dataset1)}\")\n",
        "DatasetCatalog.register(\"data_detection_train\", lambda: dataset1)\n",
        "MetadataCatalog.get(\"data_detection_train\").set(thing_classes=[\"\",\"\",\"\",\"\",\"plane\"])\n",
        "\n",
        "dataset2 = get_detection_data(\"test\")\n",
        "print(f\"test: {len(dataset2)}\")\n",
        "DatasetCatalog.register(\"data_detection_test\", lambda: dataset2)\n",
        "MetadataCatalog.get(\"data_detection_test\").set(thing_classes=[\"\",\"\",\"\",\"\",\"plane\"])\n",
        "\n",
        "dataset3 = get_detection_data(\"val\")\n",
        "print(f\"train: {len(dataset3)}\")\n",
        "DatasetCatalog.register(\"data_detection_val\", lambda: dataset3)\n",
        "MetadataCatalog.get(\"data_detection_val\").set(thing_classes=[\"\",\"\",\"\",\"\",\"plane\"])"
      ]
    },
    {
      "cell_type": "code",
      "execution_count": null,
      "metadata": {
        "id": "qNSdXCL_DVAz"
      },
      "outputs": [],
      "source": [
        "'''\n",
        "# Visualize some samples using Visualizer to make sure that the function works correctly\n",
        "# TODO: approx 5 lines\n",
        "'''\n",
        "data_dirs = '{}/data/train'.format(BASE_DIR)\n",
        "\n",
        "meta_data = MetadataCatalog.get(\"data_detection_train\")\n",
        "dataset =  DatasetCatalog.get(\"data_detection_train\")\n",
        "#print(dataset)\n",
        "for d in random.sample(dataset, 3):\n",
        "    img = cv2.imread(os.path.join(data_dirs,d[\"file_name\"]))\n",
        "    visualizer = Visualizer(img[:, :, ::-1], metadata=meta_data, scale=0.3)\n",
        "    out = visualizer.draw_dataset_dict(d)\n",
        "    cv2_imshow(out.get_image()[:, :, ::-1])\n"
      ]
    },
    {
      "cell_type": "markdown",
      "metadata": {
        "id": "uM1thbN-ntjI"
      },
      "source": [
        "### Set Configs"
      ]
    },
    {
      "cell_type": "code",
      "execution_count": 18,
      "metadata": {
        "id": "HUjkwRsOn1O0"
      },
      "outputs": [],
      "source": [
        "'''\n",
        "# Set the configs for the detection part in here.\n",
        "# TODO: approx 15 lines\n",
        "'''\n",
        "cfg = get_cfg()\n",
        "cfg.OUTPUT_DIR = \"{}/output/\".format(BASE_DIR)\n",
        "\n",
        "cfg.merge_from_file(model_zoo.get_config_file(\"COCO-Detection/faster_rcnn_R_101_FPN_3x.yaml\"))\n",
        "cfg.DATASETS.TRAIN = (\"data_detection_train\",)\n",
        "cfg.DATASETS.TEST = (\"data_detection_val\",)\n",
        "cfg.DATALOADER.NUM_WORKERS = 2\n",
        "cfg.MODEL.WEIGHTS = model_zoo.get_checkpoint_url(\"COCO-Detection/faster_rcnn_R_101_FPN_3x.yaml\")\n",
        "cfg.SOLVER.IMS_PER_BATCH = 2\n",
        "cfg.SOLVER.BASE_LR = 0.00025\n",
        "cfg.SOLVER.MAX_ITER = 500\n",
        "#cfg.SOLVER.STEPS = []\n",
        "cfg.MODEL.ROI_HEADS.BATCH_SIZE_PER_IMAGE = 512\n",
        "#cfg.MODEL.ROI_HEADS.NUM_CLASSES = 5\n"
      ]
    },
    {
      "cell_type": "markdown",
      "metadata": {
        "id": "P4rql8pNokE4"
      },
      "source": [
        "### Training"
      ]
    },
    {
      "cell_type": "code",
      "execution_count": null,
      "metadata": {
        "id": "7d3KxiHO_0gb"
      },
      "outputs": [],
      "source": [
        "'''\n",
        "# Create a DefaultTrainer using the above config and train the model\n",
        "# TODO: approx 5 lines\n",
        "'''\n",
        "import os\n",
        "os.makedirs(cfg.OUTPUT_DIR, exist_ok=True)\n",
        "trainer = DefaultTrainer(cfg)\n",
        "trainer.resume_or_load(resume=False)\n",
        "trainer.train()\n"
      ]
    },
    {
      "cell_type": "markdown",
      "metadata": {
        "id": "fRVEiICco3SV"
      },
      "source": [
        "### Evaluation and Visualization"
      ]
    },
    {
      "cell_type": "code",
      "execution_count": 20,
      "metadata": {
        "colab": {
          "base_uri": "https://localhost:8080/"
        },
        "id": "VYCIXdMZvDYL",
        "outputId": "855bc1ca-fe61-4e58-9ab7-dda09d9ba2d2"
      },
      "outputs": [
        {
          "output_type": "stream",
          "name": "stdout",
          "text": [
            "[11/03 00:47:01 d2.checkpoint.detection_checkpoint]: [DetectionCheckpointer] Loading from /content/drive/MyDrive/CMPT_CV_lab3/output/model_final.pth ...\n"
          ]
        }
      ],
      "source": [
        "'''\n",
        "# After training the model, you need to update cfg.MODEL.WEIGHTS\n",
        "# Define a DefaultPredictor\n",
        "'''\n",
        "cfg.MODEL.WEIGHTS = os.path.join(cfg.OUTPUT_DIR, \"model_final.pth\")\n",
        "cfg.MODEL.ROI_HEADS.SCORE_THRESH_TEST = 0.6\n",
        "trainer = DefaultPredictor(cfg)"
      ]
    },
    {
      "cell_type": "code",
      "execution_count": null,
      "metadata": {
        "id": "_hRCf86KGi5v"
      },
      "outputs": [],
      "source": [
        "'''\n",
        "# Visualize the output for 3 random test samples\n",
        "# TODO: approx 10 lines\n",
        "'''\n",
        "data_dirs = '{}/data/test'.format(BASE_DIR)\n",
        "\n",
        "meta_data = MetadataCatalog.get(\"data_detection_test\")\n",
        "dataset =  DatasetCatalog.get(\"data_detection_test\")\n",
        "#print(dataset)\n",
        "for d in random.sample(dataset, 3):\n",
        "    img = cv2.imread(os.path.join(data_dirs,d[\"file_name\"]))\n",
        "    result = trainer(img)\n",
        "    visualizer = Visualizer(img[:, :, ::-1], metadata=meta_data, scale=0.3)\n",
        "    out = visualizer.draw_instance_predictions(result[\"instances\"].to(\"cpu\"))\n",
        "    cv2_imshow(out.get_image()[:, :, ::-1])"
      ]
    },
    {
      "cell_type": "code",
      "execution_count": null,
      "metadata": {
        "id": "D0wRdlcKo6BD"
      },
      "outputs": [],
      "source": [
        "'''\n",
        "# Use COCOEvaluator and build_detection_train_loader\n",
        "# You can save the output predictions using inference_on_dataset\n",
        "# TODO: approx 5 lines\n",
        "'''\n",
        "evaluator = COCOEvaluator(\"data_detection_val\", output_dir=\"./output\")\n",
        "val_loader = build_detection_test_loader(cfg, \"data_detection_val\")\n",
        "inference_on_dataset(trainer.model, val_loader, evaluator)\n"
      ]
    },
    {
      "cell_type": "markdown",
      "metadata": {
        "id": "EwYvbwcjpKBk"
      },
      "source": [
        "### Improvements\n",
        "\n",
        "For this part, you can bring any improvement which you have by adding new input parameters to the previous functions or defining new functions and variables."
      ]
    },
    {
      "cell_type": "code",
      "execution_count": 23,
      "metadata": {
        "id": "xdR6KbCZpOlk",
        "colab": {
          "base_uri": "https://localhost:8080/",
          "height": 35
        },
        "outputId": "bbd739ec-ace3-4988-e61b-83312701f938"
      },
      "outputs": [
        {
          "output_type": "execute_result",
          "data": {
            "text/plain": [
              "'\\n# Bring any changes and updates regarding the improvement in here\\n'"
            ],
            "application/vnd.google.colaboratory.intrinsic+json": {
              "type": "string"
            }
          },
          "metadata": {},
          "execution_count": 23
        }
      ],
      "source": [
        "'''\n",
        "# Bring any changes and updates regarding the improvement in here\n",
        "'''\n"
      ]
    },
    {
      "cell_type": "markdown",
      "metadata": {
        "id": "98_M4TooqSs2"
      },
      "source": [
        "## Part 2: Semantic Segmentation"
      ]
    },
    {
      "cell_type": "markdown",
      "metadata": {
        "id": "ByAEsMtIPLrO"
      },
      "source": [
        "### Data Loader"
      ]
    },
    {
      "cell_type": "code",
      "execution_count": 24,
      "metadata": {
        "id": "peQ95zLuIpkk"
      },
      "outputs": [],
      "source": [
        "'''\n",
        "# Write a function that returns the cropped image and corresponding mask regarding the target bounding box\n",
        "# idx is the index of the target bbox in the data\n",
        "# high-resolution image could be passed or could be load from data['file_name']\n",
        "# You can use the mask attribute of detectron2.utils.visualizer.GenericMask\n",
        "#     to convert the segmentation annotations to binary masks\n",
        "# TODO: approx 10 lines\n",
        "'''\n",
        "from detectron2.utils.visualizer import GenericMask\n",
        "import numpy as np\n",
        "import cv2\n",
        "data_dirs = '{}/data/train'.format(BASE_DIR)\n",
        "\n",
        "def get_instance_sample(data, idx, img=None):\n",
        "    if img is None:\n",
        "        img = cv2.imread(os.path.join(data_dirs,data['file_name']))\n",
        "    bbox = data['annotations'][idx]['bbox']\n",
        "    x, y, w, h = map(int, bbox)\n",
        "\n",
        "    obj_img = img[y:y+h, x:x+w]\n",
        "\n",
        "    segm = data['annotations'][idx]['segmentation']\n",
        "    mask = GenericMask(segm, obj_img.shape[0], obj_img.shape[1])\n",
        "    obj_mask = mask.mask\n",
        "\n",
        "    return obj_img, obj_mask"
      ]
    },
    {
      "cell_type": "code",
      "execution_count": 68,
      "metadata": {
        "id": "sxrc9X_pjzj-"
      },
      "outputs": [],
      "source": [
        "'''\n",
        "# We have provided a template data loader for your segmentation training\n",
        "# You need to complete the __getitem__() function before running the code\n",
        "# You may also need to add data augmentation or normalization in here\n",
        "'''\n",
        "\n",
        "class PlaneDataset(Dataset):\n",
        "  def __init__(self, set_name, data_list):\n",
        "      self.transforms = transforms.Compose([\n",
        "          transforms.ToTensor(), # Converting the image to tensor and change the image format (Channels-Last => Channels-First)\n",
        "      ])\n",
        "      self.set_name = set_name\n",
        "      self.data = data_list\n",
        "      self.instance_map = []\n",
        "      for i, d in enumerate(self.data):\n",
        "        for j in range(len(d['annotations'])):\n",
        "          self.instance_map.append([i,j])\n",
        "\n",
        "  '''\n",
        "  # you can change the value of length to a small number like 10 for debugging of your training procedure and overfeating\n",
        "  # make sure to use the correct length for the final training\n",
        "  '''\n",
        "  def __len__(self):\n",
        "      return len(self.instance_map)\n",
        "\n",
        "  def numpy_to_tensor(self, img, mask):\n",
        "    if self.transforms is not None:\n",
        "        img = self.transforms(img)\n",
        "    img = torch.tensor(img, dtype=torch.float)\n",
        "    mask = torch.tensor(mask, dtype=torch.float)\n",
        "    return img, mask\n",
        "\n",
        "  '''\n",
        "  # Complete this part by using get_instance_sample function\n",
        "  # make sure to resize the img and mask to a fixed size (for example 128*128)\n",
        "  # you can use \"interpolate\" function of pytorch or \"numpy.resize\"\n",
        "  # TODO: 5 lines\n",
        "  '''\n",
        "  def __getitem__(self, idx):\n",
        "    if torch.is_tensor(idx):\n",
        "        idx = idx.tolist()\n",
        "    idx = self.instance_map[idx]\n",
        "    data = self.data[idx[0]]\n",
        "\n",
        "    obj_img, obj_mask = get_instance_sample(data, idx[1])\n",
        "\n",
        "    img = cv2.resize(obj_img, (128, 128))\n",
        "    img = img.astype(np.float32) / 255.0\n",
        "    img = np.transpose(img, (2, 0, 1))\n",
        "\n",
        "    mask = cv2.resize(obj_mask, (128, 128))\n",
        "    mask = mask.astype(np.float32).reshape(1,128,128)\n",
        "    return img, mask\n",
        "\n",
        "def get_plane_dataset(set_name='train', batch_size=2):\n",
        "    my_data_list = DatasetCatalog.get(\"data_detection_{}\".format(set_name))\n",
        "    dataset = PlaneDataset(set_name, my_data_list)\n",
        "    if set_name=='train':\n",
        "      loader = DataLoader(dataset, batch_size=batch_size, num_workers=4,\n",
        "                                    pin_memory=True, shuffle=True, drop_last=True)\n",
        "    else:\n",
        "      loader = DataLoader(dataset, batch_size=batch_size, num_workers=4,\n",
        "                                               pin_memory=True, shuffle=True)\n",
        "    return loader, dataset"
      ]
    },
    {
      "cell_type": "markdown",
      "metadata": {
        "id": "m6eH3NKaQQfc"
      },
      "source": [
        "### Network"
      ]
    },
    {
      "cell_type": "code",
      "execution_count": 69,
      "metadata": {
        "id": "PeqR3s3dSBPN"
      },
      "outputs": [],
      "source": [
        "'''\n",
        "# convolution module as a template layer consists of conv2d layer, batch normalization, and relu activation\n",
        "'''\n",
        "class conv(nn.Module):\n",
        "    def __init__(self, in_ch, out_ch, activation=True):\n",
        "        super(conv, self).__init__()\n",
        "        if(activation):\n",
        "          self.layer = nn.Sequential(\n",
        "             nn.Conv2d(in_ch, out_ch, 3, padding=1),\n",
        "             nn.BatchNorm2d(out_ch),\n",
        "             nn.ReLU(inplace=True)\n",
        "          )\n",
        "        else:\n",
        "          self.layer = nn.Sequential(\n",
        "             nn.Conv2d(in_ch, out_ch, 3, padding=1)\n",
        "             )\n",
        "\n",
        "    def forward(self, x):\n",
        "        x = self.layer(x)\n",
        "        return x\n",
        "\n",
        "'''\n",
        "# downsampling module equal to a conv module followed by a max-pool layer\n",
        "'''\n",
        "class down(nn.Module):\n",
        "    def __init__(self, in_ch, out_ch):\n",
        "        super(down, self).__init__()\n",
        "        self.layer = nn.Sequential(\n",
        "            conv(in_ch, out_ch),\n",
        "            nn.MaxPool2d(2)\n",
        "            )\n",
        "\n",
        "    def forward(self, x):\n",
        "        x = self.layer(x)\n",
        "        return x\n",
        "\n",
        "'''\n",
        "# upsampling module equal to a upsample function followed by a conv module\n",
        "'''\n",
        "class up(nn.Module):\n",
        "    def __init__(self, in_ch, out_ch, bilinear=False):\n",
        "        super(up, self).__init__()\n",
        "        if bilinear:\n",
        "            self.up = nn.Upsample(scale_factor=2, mode='bilinear', align_corners=True)\n",
        "        else:\n",
        "            self.up = nn.ConvTranspose2d(in_ch, in_ch, 2, stride=2)\n",
        "\n",
        "        self.conv = conv(in_ch, out_ch)\n",
        "\n",
        "    def forward(self, x):\n",
        "        y = self.up(x)\n",
        "        y = self.conv(y)\n",
        "        return y\n",
        "\n",
        "'''\n",
        "# the main model which you need to complete by using above modules.\n",
        "# you can also modify the above modules in order to improve your results.\n",
        "'''\n",
        "class MyModel(nn.Module):\n",
        "    def __init__(self):\n",
        "        super(MyModel, self).__init__()\n",
        "\n",
        "        # Encoder\n",
        "\n",
        "        self.input_conv = conv(3, 16)\n",
        "        self.down = nn.Sequential(\n",
        "            down(16, 32),\n",
        "            conv(32, 32),\n",
        "\n",
        "            down(32, 64),\n",
        "            conv(64, 64),\n",
        "\n",
        "            down(64,128),\n",
        "            conv(128, 128),\n",
        "\n",
        "            down(128,256),\n",
        "            conv(256, 256),\n",
        "\n",
        "            down(256,512)\n",
        "        )\n",
        "\n",
        "        self.fc_net = nn.Sequential(\n",
        "            #nn.Linear(16 * 5 * 5, TOTAL_CLASSES//2),\n",
        "            nn.Linear(512*4*4, 512*4*4),\n",
        "            nn.BatchNorm1d(512*4*4),\n",
        "            nn.ReLU(inplace=True)\n",
        "        )\n",
        "\n",
        "        # Decoder\n",
        "\n",
        "        self.up = nn.Sequential(\n",
        "            up(512, 256),\n",
        "            conv(256, 256),\n",
        "\n",
        "            up(256,128),\n",
        "            conv(128, 128),\n",
        "\n",
        "            up(128,64),\n",
        "            conv(64, 64),\n",
        "\n",
        "            up(64,32),\n",
        "            conv(32, 32),\n",
        "\n",
        "            up(32,16)\n",
        "        )\n",
        "        self.output_conv = conv(16, 1, False) # ReLu activation is removed to keep the logits for the loss function\n",
        "\n",
        "\n",
        "    def forward(self, input):\n",
        "      y = self.input_conv(input)\n",
        "      y = self.down(y)\n",
        "\n",
        "      b,c,h,w = y.size(0),y.size(1),y.size(2),y.size(3)\n",
        "      y = y.view(b, -1)\n",
        "      y = self.fc_net(y)\n",
        "      y = y.view(b,c,h,w)\n",
        "\n",
        "      y = self.up(y)\n",
        "      output = self.output_conv(y)\n",
        "      #print(output.shape)\n",
        "      return output"
      ]
    },
    {
      "cell_type": "markdown",
      "metadata": {
        "id": "rQj86vD9QT_Z"
      },
      "source": [
        "### Training"
      ]
    },
    {
      "cell_type": "code",
      "execution_count": null,
      "metadata": {
        "id": "MaZuO4SKSBuF",
        "colab": {
          "base_uri": "https://localhost:8080/",
          "height": 103,
          "referenced_widgets": [
            "2d9cffa3c58c4958b0e326fa50d71213",
            "831068f1c40348afafe8d8494e81fd61",
            "621a70413f74483590f8dbdb8e36d637",
            "4e3dd7f06c6d45f883bc8c3c05599005",
            "6fd1b1bf59f5470a8045b67b089e35f9",
            "820e9f4f078940189cb9798ddfdfe26d",
            "3c7557d8f6fb4bcc862fb1d55ce28deb",
            "37f9a05abcee49fb93e6df90f1d7fd7d",
            "53f71e1dedb34e6f86fb3dd9647d4bd5",
            "b836f718e08446e7b414caa4896c80f0",
            "e13258cc857e4a83a004ed234232f5bf"
          ]
        },
        "outputId": "6de3be11-f3a6-4226-ea9c-20aba264ecb5"
      },
      "outputs": [
        {
          "output_type": "stream",
          "name": "stderr",
          "text": [
            "/usr/local/lib/python3.10/dist-packages/torch/utils/data/dataloader.py:557: UserWarning: This DataLoader will create 4 worker processes in total. Our suggested max number of worker in current system is 2, which is smaller than what this DataLoader is going to create. Please be aware that excessive worker creation might get DataLoader running slow or even freeze, lower the worker number to avoid potential slowness/freeze if necessary.\n",
            "  warnings.warn(_create_warning_msg(\n"
          ]
        },
        {
          "output_type": "display_data",
          "data": {
            "text/plain": [
              "  0%|          | 0/1911 [00:00<?, ?it/s]"
            ],
            "application/vnd.jupyter.widget-view+json": {
              "version_major": 2,
              "version_minor": 0,
              "model_id": "2d9cffa3c58c4958b0e326fa50d71213"
            }
          },
          "metadata": {}
        }
      ],
      "source": [
        "'''\n",
        "# The following is a basic training procedure to train the network\n",
        "# You need to update the code to get the best performance\n",
        "# TODO: approx ? lines\n",
        "'''\n",
        "\n",
        "# Set the hyperparameters\n",
        "num_epochs = 3\n",
        "batch_size = 4\n",
        "learning_rate = 0.01\n",
        "weight_decay = 1e-5\n",
        "\n",
        "model = MyModel() # initialize the model\n",
        "model = model.cuda() # move the model to GPU\n",
        "loader, _ = get_plane_dataset('train', batch_size) # initialize data_loader\n",
        "crit = nn.BCEWithLogitsLoss() # Define the loss function\n",
        "optim = torch.optim.SGD(model.parameters(), lr=learning_rate, weight_decay=weight_decay) # Initialize the optimizer as SGD\n",
        "\n",
        "# start the training procedure\n",
        "for epoch in range(num_epochs):\n",
        "  total_loss = 0\n",
        "  for (img, mask) in tqdm(loader):\n",
        "    #print(img.shape,mask.shape)\n",
        "    img = torch.tensor(img, device=torch.device('cuda'), requires_grad = True)\n",
        "    mask = torch.tensor(mask, device=torch.device('cuda'), requires_grad = True)\n",
        "    pred = model(img)\n",
        "    loss = crit(pred, mask)\n",
        "    optim.zero_grad()\n",
        "    loss.backward()\n",
        "    optim.step()\n",
        "    total_loss += loss.cpu().data\n",
        "  print(\"Epoch: {}, Loss: {}\".format(epoch, total_loss/len(loader)))\n",
        "  torch.save(model.state_dict(), '{}/output/{}_segmentation_model.pth'.format(BASE_DIR, epoch))\n",
        "\n",
        "'''\n",
        "# Saving the final model\n",
        "'''\n",
        "torch.save(model.state_dict(), '{}/output/final_segmentation_model.pth'.format(BASE_DIR))\n"
      ]
    },
    {
      "cell_type": "markdown",
      "metadata": {
        "id": "0dyez1fyQYw7"
      },
      "source": [
        "### Evaluation and Visualization"
      ]
    },
    {
      "cell_type": "code",
      "execution_count": null,
      "metadata": {
        "id": "TDeViryUSCL2"
      },
      "outputs": [],
      "source": [
        "'''\n",
        "# Before starting the evaluation, you need to set the model mode to eval\n",
        "# You may load the trained model again, in case if you want to continue your code later\n",
        "# TODO: approx 15 lines\n",
        "'''\n",
        "batch_size = 8\n",
        "model = MyModel().cuda()\n",
        "model.load_state_dict(torch.load('{}/output/final_segmentation_model.pth'.format(BASE_DIR)))\n",
        "# model.load_state_dict(torch.load('{}/output/2_segmentation_model.pth'.format(BASE_DIR)))\n",
        "model = model.eval() # chaning the model to evaluation mode will fix the bachnorm layers\n",
        "loader, dataset = get_plane_dataset('val', batch_size)\n",
        "\n",
        "total_iou = 0\n",
        "num_images = 0\n",
        "for (img, mask) in tqdm(loader):\n",
        "  with torch.no_grad():\n",
        "    img = img.cuda()\n",
        "    mask = mask.cuda()\n",
        "    mask = torch.unsqueeze(mask,1)\n",
        "    pred = model(img)\n",
        "\n",
        "    '''\n",
        "    ## Complete the code by obtaining the IoU for each img and print the final Mean IoU\n",
        "    '''\n",
        "    intersection = torch.logical_and(pred > 0.5, mask > 0.5)\n",
        "    union = torch.logical_or(pred > 0.5, mask > 0.5)\n",
        "    iou = (intersection.sum() / union.sum()).item()\n",
        "\n",
        "    total_iou += iou\n",
        "    num_images += 1\n",
        "\n",
        "mean_iou = total_iou / num_images\n",
        "\n",
        "print(\"\\n #images: {}, Mean IoU: {}\".format(num_images, mean_iou))\n"
      ]
    },
    {
      "cell_type": "code",
      "execution_count": null,
      "metadata": {
        "id": "jbmTj9JICiKz"
      },
      "outputs": [],
      "source": [
        "'''\n",
        "# Visualize 3 sample outputs\n",
        "# TODO: approx 5 lines\n",
        "'''\n",
        "loader, dataset = get_plane_dataset('test', batch_size)\n",
        "for (img, mask) in random.sample(loader,3):\n",
        "  with torch.no_grad():\n",
        "    pred = model(img)\n",
        "    output_image = pred[0, 0].cpu().numpy() * 255\n",
        "    output_image = output_image.astype('uint8')\n",
        "    cv2.imshow(output_image)\n"
      ]
    },
    {
      "cell_type": "markdown",
      "metadata": {
        "id": "navoiGdrqaZT"
      },
      "source": [
        "## Part 3: Instance Segmentation\n",
        "\n",
        "In this part, you need to obtain the instance segmentation results for the test data by using the trained segmentation model in the previous part and the detection model in Part 1."
      ]
    },
    {
      "cell_type": "markdown",
      "metadata": {
        "id": "vBwk33DGBowP"
      },
      "source": [
        "### Get Prediction"
      ]
    },
    {
      "cell_type": "code",
      "execution_count": null,
      "metadata": {
        "id": "crrZ8TG-Ot2J"
      },
      "outputs": [],
      "source": [
        "'''\n",
        "# Define a new function to obtain the prediction mask by passing a sample data\n",
        "# For this part, you need to use all the previous parts (predictor, get_instance_sample, data preprocessings, etc)\n",
        "# It is better to keep everything (as well as the output of this funcion) on gpu as tensors to speed up the operations.\n",
        "# pred_mask is the instance segmentation result and should have different values for different planes.\n",
        "# TODO: approx 35 lines\n",
        "'''\n",
        "\n",
        "def get_prediction_mask(data):\n",
        "\n",
        "  return img, gt_mask, pred_mask # gt_mask could be all zero when the ground truth is not given.\n"
      ]
    },
    {
      "cell_type": "markdown",
      "metadata": {
        "id": "fc7TSK6EBi9u"
      },
      "source": [
        "### Visualization and Submission"
      ]
    },
    {
      "cell_type": "code",
      "execution_count": null,
      "metadata": {
        "id": "H7T2YX8MBiGO"
      },
      "outputs": [],
      "source": [
        "'''\n",
        "# Visualise the output prediction as well as the GT Mask and Input image for a sample input\n",
        "# TODO: approx 10 lines\n",
        "'''\n",
        "\n"
      ]
    },
    {
      "cell_type": "code",
      "execution_count": null,
      "metadata": {
        "id": "uPo_03up-g_f"
      },
      "outputs": [],
      "source": [
        "'''\n",
        "# ref: https://www.kaggle.com/rakhlin/fast-run-length-encoding-python\n",
        "# https://www.kaggle.com/c/airbus-ship-detection/overview/evaluation\n",
        "'''\n",
        "def rle_encoding(x):\n",
        "    '''\n",
        "    x: pytorch tensor on gpu, 1 - mask, 0 - background\n",
        "    Returns run length as list\n",
        "    '''\n",
        "    dots = torch.where(torch.flatten(x.long())==1)[0]\n",
        "    if(len(dots)==0):\n",
        "      return []\n",
        "    inds = torch.where(dots[1:]!=dots[:-1]+1)[0]+1\n",
        "    inds = torch.cat((torch.tensor([0], device=torch.device('cuda'), dtype=torch.long), inds))\n",
        "    tmpdots = dots[inds]\n",
        "    inds = torch.cat((inds, torch.tensor([len(dots)], device=torch.device('cuda'))))\n",
        "    inds = inds[1:] - inds[:-1]\n",
        "    runs = torch.cat((tmpdots, inds)).reshape((2,-1))\n",
        "    runs = torch.flatten(torch.transpose(runs, 0, 1)).cpu().data.numpy()\n",
        "    return ' '.join([str(i) for i in runs])"
      ]
    },
    {
      "cell_type": "code",
      "execution_count": null,
      "metadata": {
        "id": "zv0rab2LJev-"
      },
      "outputs": [],
      "source": [
        "'''\n",
        "# You need to upload the csv file on kaggle\n",
        "# The speed of your code in the previous parts highly affects the running time of this part\n",
        "'''\n",
        "\n",
        "preddic = {\"ImageId\": [], \"EncodedPixels\": []}\n",
        "\n",
        "'''\n",
        "# Writing the predictions of the training set\n",
        "'''\n",
        "my_data_list = DatasetCatalog.get(\"data_detection_{}\".format('train'))\n",
        "for i in tqdm(range(len(my_data_list)), position=0, leave=True):\n",
        "  sample = my_data_list[i]\n",
        "  sample['image_id'] = sample['file_name'].split(\"/\")[-1][:-4]\n",
        "  img, true_mask, pred_mask = get_prediction_mask(sample)\n",
        "  inds = torch.unique(pred_mask)\n",
        "  if(len(inds)==1):\n",
        "    preddic['ImageId'].append(sample['image_id'])\n",
        "    preddic['EncodedPixels'].append([])\n",
        "  else:\n",
        "    for index in inds:\n",
        "      if(index == 0):\n",
        "        continue\n",
        "      tmp_mask = (pred_mask==index)\n",
        "      encPix = rle_encoding(tmp_mask)\n",
        "      preddic['ImageId'].append(sample['image_id'])\n",
        "      preddic['EncodedPixels'].append(encPix)\n",
        "\n",
        "'''\n",
        "# Writing the predictions of the test set\n",
        "'''\n",
        "\n",
        "my_data_list = DatasetCatalog.get(\"data_detection_{}\".format('test'))\n",
        "for i in tqdm(range(len(my_data_list)), position=0, leave=True):\n",
        "  sample = my_data_list[i]\n",
        "  sample['image_id'] = sample['file_name'].split(\"/\")[-1][:-4]\n",
        "  img, true_mask, pred_mask = get_prediction_mask(sample)\n",
        "  inds = torch.unique(pred_mask)\n",
        "  if(len(inds)==1):\n",
        "    preddic['ImageId'].append(sample['image_id'])\n",
        "    preddic['EncodedPixels'].append([])\n",
        "  else:\n",
        "    for j, index in enumerate(inds):\n",
        "      if(index == 0):\n",
        "        continue\n",
        "      tmp_mask = (pred_mask==index).double()\n",
        "      encPix = rle_encoding(tmp_mask)\n",
        "      preddic['ImageId'].append(sample['image_id'])\n",
        "      preddic['EncodedPixels'].append(encPix)\n",
        "\n",
        "pred_file = open(\"{}/pred.csv\".format(BASE_DIR), 'w')\n",
        "pd.DataFrame(preddic).to_csv(pred_file, index=False)\n",
        "pred_file.close()\n"
      ]
    },
    {
      "cell_type": "markdown",
      "metadata": {
        "id": "p7nN4SduqrpI"
      },
      "source": [
        "## Part 4: Mask R-CNN\n",
        "\n",
        "For this part you need to follow a same procedure to part 2 with the configs of Mask R-CNN, other parts are generally the same as part 2."
      ]
    },
    {
      "cell_type": "markdown",
      "metadata": {
        "id": "axWf7drKNXYd"
      },
      "source": [
        "### Data Loader"
      ]
    },
    {
      "cell_type": "code",
      "execution_count": null,
      "metadata": {
        "id": "yC1FDCcQN2LH"
      },
      "outputs": [],
      "source": []
    },
    {
      "cell_type": "markdown",
      "metadata": {
        "id": "lG5slAhQNjE7"
      },
      "source": [
        "### Network"
      ]
    },
    {
      "cell_type": "code",
      "execution_count": null,
      "metadata": {
        "id": "KG1pnKLMOcjS"
      },
      "outputs": [],
      "source": []
    },
    {
      "cell_type": "markdown",
      "metadata": {
        "id": "t7ifeV1sNvtt"
      },
      "source": [
        "### Training"
      ]
    },
    {
      "cell_type": "code",
      "execution_count": null,
      "metadata": {
        "id": "tc4K0Nz5OeKk"
      },
      "outputs": [],
      "source": []
    },
    {
      "cell_type": "markdown",
      "metadata": {
        "id": "298QruFnNxyn"
      },
      "source": [
        "### Evaluation and Visualization"
      ]
    },
    {
      "cell_type": "code",
      "execution_count": null,
      "metadata": {
        "id": "KcGwV5-9Oetp"
      },
      "outputs": [],
      "source": []
    },
    {
      "cell_type": "code",
      "execution_count": null,
      "metadata": {
        "id": "l_3wS2BFLLGp"
      },
      "outputs": [],
      "source": []
    }
  ],
  "metadata": {
    "accelerator": "GPU",
    "colab": {
      "provenance": [],
      "gpuType": "V100"
    },
    "kernelspec": {
      "display_name": "Python 3",
      "name": "python3"
    },
    "widgets": {
      "application/vnd.jupyter.widget-state+json": {
        "2d9cffa3c58c4958b0e326fa50d71213": {
          "model_module": "@jupyter-widgets/controls",
          "model_name": "HBoxModel",
          "model_module_version": "1.5.0",
          "state": {
            "_dom_classes": [],
            "_model_module": "@jupyter-widgets/controls",
            "_model_module_version": "1.5.0",
            "_model_name": "HBoxModel",
            "_view_count": null,
            "_view_module": "@jupyter-widgets/controls",
            "_view_module_version": "1.5.0",
            "_view_name": "HBoxView",
            "box_style": "",
            "children": [
              "IPY_MODEL_831068f1c40348afafe8d8494e81fd61",
              "IPY_MODEL_621a70413f74483590f8dbdb8e36d637",
              "IPY_MODEL_4e3dd7f06c6d45f883bc8c3c05599005"
            ],
            "layout": "IPY_MODEL_6fd1b1bf59f5470a8045b67b089e35f9"
          }
        },
        "831068f1c40348afafe8d8494e81fd61": {
          "model_module": "@jupyter-widgets/controls",
          "model_name": "HTMLModel",
          "model_module_version": "1.5.0",
          "state": {
            "_dom_classes": [],
            "_model_module": "@jupyter-widgets/controls",
            "_model_module_version": "1.5.0",
            "_model_name": "HTMLModel",
            "_view_count": null,
            "_view_module": "@jupyter-widgets/controls",
            "_view_module_version": "1.5.0",
            "_view_name": "HTMLView",
            "description": "",
            "description_tooltip": null,
            "layout": "IPY_MODEL_820e9f4f078940189cb9798ddfdfe26d",
            "placeholder": "​",
            "style": "IPY_MODEL_3c7557d8f6fb4bcc862fb1d55ce28deb",
            "value": "  0%"
          }
        },
        "621a70413f74483590f8dbdb8e36d637": {
          "model_module": "@jupyter-widgets/controls",
          "model_name": "FloatProgressModel",
          "model_module_version": "1.5.0",
          "state": {
            "_dom_classes": [],
            "_model_module": "@jupyter-widgets/controls",
            "_model_module_version": "1.5.0",
            "_model_name": "FloatProgressModel",
            "_view_count": null,
            "_view_module": "@jupyter-widgets/controls",
            "_view_module_version": "1.5.0",
            "_view_name": "ProgressView",
            "bar_style": "",
            "description": "",
            "description_tooltip": null,
            "layout": "IPY_MODEL_37f9a05abcee49fb93e6df90f1d7fd7d",
            "max": 1911,
            "min": 0,
            "orientation": "horizontal",
            "style": "IPY_MODEL_53f71e1dedb34e6f86fb3dd9647d4bd5",
            "value": 0
          }
        },
        "4e3dd7f06c6d45f883bc8c3c05599005": {
          "model_module": "@jupyter-widgets/controls",
          "model_name": "HTMLModel",
          "model_module_version": "1.5.0",
          "state": {
            "_dom_classes": [],
            "_model_module": "@jupyter-widgets/controls",
            "_model_module_version": "1.5.0",
            "_model_name": "HTMLModel",
            "_view_count": null,
            "_view_module": "@jupyter-widgets/controls",
            "_view_module_version": "1.5.0",
            "_view_name": "HTMLView",
            "description": "",
            "description_tooltip": null,
            "layout": "IPY_MODEL_b836f718e08446e7b414caa4896c80f0",
            "placeholder": "​",
            "style": "IPY_MODEL_e13258cc857e4a83a004ed234232f5bf",
            "value": " 0/1911 [00:00&lt;?, ?it/s]"
          }
        },
        "6fd1b1bf59f5470a8045b67b089e35f9": {
          "model_module": "@jupyter-widgets/base",
          "model_name": "LayoutModel",
          "model_module_version": "1.2.0",
          "state": {
            "_model_module": "@jupyter-widgets/base",
            "_model_module_version": "1.2.0",
            "_model_name": "LayoutModel",
            "_view_count": null,
            "_view_module": "@jupyter-widgets/base",
            "_view_module_version": "1.2.0",
            "_view_name": "LayoutView",
            "align_content": null,
            "align_items": null,
            "align_self": null,
            "border": null,
            "bottom": null,
            "display": null,
            "flex": null,
            "flex_flow": null,
            "grid_area": null,
            "grid_auto_columns": null,
            "grid_auto_flow": null,
            "grid_auto_rows": null,
            "grid_column": null,
            "grid_gap": null,
            "grid_row": null,
            "grid_template_areas": null,
            "grid_template_columns": null,
            "grid_template_rows": null,
            "height": null,
            "justify_content": null,
            "justify_items": null,
            "left": null,
            "margin": null,
            "max_height": null,
            "max_width": null,
            "min_height": null,
            "min_width": null,
            "object_fit": null,
            "object_position": null,
            "order": null,
            "overflow": null,
            "overflow_x": null,
            "overflow_y": null,
            "padding": null,
            "right": null,
            "top": null,
            "visibility": null,
            "width": null
          }
        },
        "820e9f4f078940189cb9798ddfdfe26d": {
          "model_module": "@jupyter-widgets/base",
          "model_name": "LayoutModel",
          "model_module_version": "1.2.0",
          "state": {
            "_model_module": "@jupyter-widgets/base",
            "_model_module_version": "1.2.0",
            "_model_name": "LayoutModel",
            "_view_count": null,
            "_view_module": "@jupyter-widgets/base",
            "_view_module_version": "1.2.0",
            "_view_name": "LayoutView",
            "align_content": null,
            "align_items": null,
            "align_self": null,
            "border": null,
            "bottom": null,
            "display": null,
            "flex": null,
            "flex_flow": null,
            "grid_area": null,
            "grid_auto_columns": null,
            "grid_auto_flow": null,
            "grid_auto_rows": null,
            "grid_column": null,
            "grid_gap": null,
            "grid_row": null,
            "grid_template_areas": null,
            "grid_template_columns": null,
            "grid_template_rows": null,
            "height": null,
            "justify_content": null,
            "justify_items": null,
            "left": null,
            "margin": null,
            "max_height": null,
            "max_width": null,
            "min_height": null,
            "min_width": null,
            "object_fit": null,
            "object_position": null,
            "order": null,
            "overflow": null,
            "overflow_x": null,
            "overflow_y": null,
            "padding": null,
            "right": null,
            "top": null,
            "visibility": null,
            "width": null
          }
        },
        "3c7557d8f6fb4bcc862fb1d55ce28deb": {
          "model_module": "@jupyter-widgets/controls",
          "model_name": "DescriptionStyleModel",
          "model_module_version": "1.5.0",
          "state": {
            "_model_module": "@jupyter-widgets/controls",
            "_model_module_version": "1.5.0",
            "_model_name": "DescriptionStyleModel",
            "_view_count": null,
            "_view_module": "@jupyter-widgets/base",
            "_view_module_version": "1.2.0",
            "_view_name": "StyleView",
            "description_width": ""
          }
        },
        "37f9a05abcee49fb93e6df90f1d7fd7d": {
          "model_module": "@jupyter-widgets/base",
          "model_name": "LayoutModel",
          "model_module_version": "1.2.0",
          "state": {
            "_model_module": "@jupyter-widgets/base",
            "_model_module_version": "1.2.0",
            "_model_name": "LayoutModel",
            "_view_count": null,
            "_view_module": "@jupyter-widgets/base",
            "_view_module_version": "1.2.0",
            "_view_name": "LayoutView",
            "align_content": null,
            "align_items": null,
            "align_self": null,
            "border": null,
            "bottom": null,
            "display": null,
            "flex": null,
            "flex_flow": null,
            "grid_area": null,
            "grid_auto_columns": null,
            "grid_auto_flow": null,
            "grid_auto_rows": null,
            "grid_column": null,
            "grid_gap": null,
            "grid_row": null,
            "grid_template_areas": null,
            "grid_template_columns": null,
            "grid_template_rows": null,
            "height": null,
            "justify_content": null,
            "justify_items": null,
            "left": null,
            "margin": null,
            "max_height": null,
            "max_width": null,
            "min_height": null,
            "min_width": null,
            "object_fit": null,
            "object_position": null,
            "order": null,
            "overflow": null,
            "overflow_x": null,
            "overflow_y": null,
            "padding": null,
            "right": null,
            "top": null,
            "visibility": null,
            "width": null
          }
        },
        "53f71e1dedb34e6f86fb3dd9647d4bd5": {
          "model_module": "@jupyter-widgets/controls",
          "model_name": "ProgressStyleModel",
          "model_module_version": "1.5.0",
          "state": {
            "_model_module": "@jupyter-widgets/controls",
            "_model_module_version": "1.5.0",
            "_model_name": "ProgressStyleModel",
            "_view_count": null,
            "_view_module": "@jupyter-widgets/base",
            "_view_module_version": "1.2.0",
            "_view_name": "StyleView",
            "bar_color": null,
            "description_width": ""
          }
        },
        "b836f718e08446e7b414caa4896c80f0": {
          "model_module": "@jupyter-widgets/base",
          "model_name": "LayoutModel",
          "model_module_version": "1.2.0",
          "state": {
            "_model_module": "@jupyter-widgets/base",
            "_model_module_version": "1.2.0",
            "_model_name": "LayoutModel",
            "_view_count": null,
            "_view_module": "@jupyter-widgets/base",
            "_view_module_version": "1.2.0",
            "_view_name": "LayoutView",
            "align_content": null,
            "align_items": null,
            "align_self": null,
            "border": null,
            "bottom": null,
            "display": null,
            "flex": null,
            "flex_flow": null,
            "grid_area": null,
            "grid_auto_columns": null,
            "grid_auto_flow": null,
            "grid_auto_rows": null,
            "grid_column": null,
            "grid_gap": null,
            "grid_row": null,
            "grid_template_areas": null,
            "grid_template_columns": null,
            "grid_template_rows": null,
            "height": null,
            "justify_content": null,
            "justify_items": null,
            "left": null,
            "margin": null,
            "max_height": null,
            "max_width": null,
            "min_height": null,
            "min_width": null,
            "object_fit": null,
            "object_position": null,
            "order": null,
            "overflow": null,
            "overflow_x": null,
            "overflow_y": null,
            "padding": null,
            "right": null,
            "top": null,
            "visibility": null,
            "width": null
          }
        },
        "e13258cc857e4a83a004ed234232f5bf": {
          "model_module": "@jupyter-widgets/controls",
          "model_name": "DescriptionStyleModel",
          "model_module_version": "1.5.0",
          "state": {
            "_model_module": "@jupyter-widgets/controls",
            "_model_module_version": "1.5.0",
            "_model_name": "DescriptionStyleModel",
            "_view_count": null,
            "_view_module": "@jupyter-widgets/base",
            "_view_module_version": "1.2.0",
            "_view_name": "StyleView",
            "description_width": ""
          }
        }
      }
    }
  },
  "nbformat": 4,
  "nbformat_minor": 0
}